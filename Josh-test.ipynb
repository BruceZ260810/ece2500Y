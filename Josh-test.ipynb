{
 "cells": [
  {
   "cell_type": "code",
   "execution_count": 1,
   "metadata": {},
   "outputs": [
    {
     "ename": "SyntaxError",
     "evalue": "invalid syntax (3474231917.py, line 1)",
     "output_type": "error",
     "traceback": [
      "\u001b[1;36m  Cell \u001b[1;32mIn[1], line 1\u001b[1;36m\u001b[0m\n\u001b[1;33m    git config pull.rebase false  # merge\u001b[0m\n\u001b[1;37m        ^\u001b[0m\n\u001b[1;31mSyntaxError\u001b[0m\u001b[1;31m:\u001b[0m invalid syntax\n"
     ]
    }
   ],
   "source": [
    "git config pull.rebase false  # merge"
   ]
  },
  {
   "cell_type": "code",
   "execution_count": 2,
   "metadata": {},
   "outputs": [
    {
     "name": "stdout",
     "output_type": "stream",
     "text": [
      "Hello world\n"
     ]
    }
   ],
   "source": [
    "print (\"Hello world\")"
   ]
  },
  {
   "cell_type": "code",
   "execution_count": null,
   "metadata": {},
   "outputs": [],
   "source": [
    "# prompt: Import an excel file with a time column and 10 other columns called: Hip, Knee, Ankle, Heel (ventral), Instep (dorsal), Toe 1 (Proximal \"Thumb\"), Toe 2, Toe 3 (Middle), Toe 4, and Toe 5 (Distal \"Pinky\"). Within each of the 10 columns, there are 3 sub-columns called: x, y, and likelihood.\n",
    "\n",
    "import pandas as pd\n",
    "import numpy as np\n",
    "import openpyxl\n",
    "from openpyxl import load_workbook\n",
    "from datetime import datetime\n",
    "\n",
    "df = pd.read_excel('file.xlsx')\n",
    "\n",
    "# Extract time column\n",
    "time_column = df['Time']\n",
    "\n",
    "# Extract columns for body parts\n",
    "hip_x = df['Hip x']\n",
    "hip_y = df['Hip y']\n",
    "hip_likelihood = df['Hip likelihood']\n",
    "\n",
    "knee_x = df['Knee x']\n",
    "knee_y = df['Knee y']\n",
    "knee_likelihood = df['Knee likelihood']\n",
    "\n",
    "# ... and so on for the remaining body parts\n",
    "\n",
    "# Create a dictionary to store all body parts data\n",
    "body_parts = {\n",
    "    'Hip': {\n",
    "        'x': hip_x,\n",
    "        'y': hip_y,\n",
    "        'likelihood': hip_likelihood\n",
    "    },\n",
    "    'Knee': {\n",
    "        'x': knee_x,\n",
    "        'y': knee_y,\n",
    "        'likelihood': knee_likelihood\n",
    "    },\n",
    "    # ... and so on for the remaining body parts\n",
    "}"
   ]
  },
  {
   "cell_type": "code",
   "execution_count": null,
   "metadata": {},
   "outputs": [],
   "source": [
    "#git commit -m \"first commit\""
   ]
  }
 ],
 "metadata": {
  "kernelspec": {
   "display_name": "Python 3",
   "language": "python",
   "name": "python3"
  },
  "language_info": {
   "codemirror_mode": {
    "name": "ipython",
    "version": 3
   },
   "file_extension": ".py",
   "mimetype": "text/x-python",
   "name": "python",
   "nbconvert_exporter": "python",
   "pygments_lexer": "ipython3",
   "version": "3.8.18"
  }
 },
 "nbformat": 4,
 "nbformat_minor": 2
}
