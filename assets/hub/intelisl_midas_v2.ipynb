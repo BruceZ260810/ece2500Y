{
  "cells": [
    {
      "cell_type": "markdown",
      "id": "404404dc",
      "metadata": {
        "id": "404404dc"
      },
      "source": [
        "### This notebook is optionally accelerated with a GPU runtime.\n",
        "### If you would like to use this acceleration, please select the menu option \"Runtime\" -> \"Change runtime type\", select \"Hardware Accelerator\" -> \"GPU\" and click \"SAVE\"\n",
        "\n",
        "----------------------------------------------------------------------\n",
        "\n",
        "# MiDaS\n",
        "\n",
        "*Author: Intel ISL*\n",
        "\n",
        "**MiDaS models for computing relative depth from a single image.**\n",
        "\n",
        "<img src=\"https://pytorch.org/assets/images/midas_samples.png\" alt=\"alt\" width=\"50%\"/>\n",
        "\n",
        "\n",
        "### Model Description\n",
        "\n",
        "[MiDaS](https://arxiv.org/abs/1907.01341) computes relative inverse depth from a single image. The repository provides multiple models that cover different use cases ranging from a small, high-speed model to a very large model that provide the highest accuracy. The models have been trained on 10 distinct datasets using\n",
        "multi-objective optimization to ensure high quality on a wide range of inputs.\n",
        "\n",
        "### Dependencies\n",
        "\n",
        "MiDaS depends on [timm](https://github.com/rwightman/pytorch-image-models). Install with"
      ]
    },
    {
      "cell_type": "code",
      "source": [
        "from google.colab import drive\n",
        "drive.mount('/content/drive')"
      ],
      "metadata": {
        "colab": {
          "base_uri": "https://localhost:8080/"
        },
        "id": "JE6-hf014iPT",
        "outputId": "cbf66330-5d84-4a59-8621-0c7d51b6f1c7"
      },
      "id": "JE6-hf014iPT",
      "execution_count": 1,
      "outputs": [
        {
          "output_type": "stream",
          "name": "stdout",
          "text": [
            "Drive already mounted at /content/drive; to attempt to forcibly remount, call drive.mount(\"/content/drive\", force_remount=True).\n"
          ]
        }
      ]
    },
    {
      "cell_type": "code",
      "source": [
        "!pip install h5py\n",
        "import h5py"
      ],
      "metadata": {
        "id": "xqqnGJvv7L2E",
        "outputId": "9cdcc797-7d60-4c9c-a53f-83ddec2545c1",
        "colab": {
          "base_uri": "https://localhost:8080/"
        }
      },
      "id": "xqqnGJvv7L2E",
      "execution_count": 2,
      "outputs": [
        {
          "output_type": "stream",
          "name": "stdout",
          "text": [
            "Requirement already satisfied: h5py in /usr/local/lib/python3.11/dist-packages (3.13.0)\n",
            "Requirement already satisfied: numpy>=1.19.3 in /usr/local/lib/python3.11/dist-packages (from h5py) (2.0.2)\n"
          ]
        }
      ]
    },
    {
      "cell_type": "code",
      "source": [
        "import scipy.io as sio\n",
        "mat_path = \"/content/drive/MyDrive/nyu_depth_v2_labeled.mat\""
      ],
      "metadata": {
        "id": "QPfb3SGU44Ve"
      },
      "id": "QPfb3SGU44Ve",
      "execution_count": 3,
      "outputs": []
    },
    {
      "cell_type": "code",
      "source": [
        "with h5py.File(mat_path, 'r') as f:\n",
        "    print(list(f.keys()))\n",
        "    # 这里会列出顶层数据集/组的名称，比如 \"images\", \"depths\", ...\n",
        "\n",
        "    # 若想访问某个数据集，比如 'images'\n",
        "    images = f['images'][:]  # 转成 numpy array\n",
        "    depths = f['depths'][:]\n",
        "    print(images.shape, depths.shape)"
      ],
      "metadata": {
        "id": "l-hQdbpc7RTT",
        "outputId": "7bb8323c-8f78-4466-e6ac-a0a663ae2e2f",
        "colab": {
          "base_uri": "https://localhost:8080/"
        }
      },
      "id": "l-hQdbpc7RTT",
      "execution_count": 4,
      "outputs": [
        {
          "output_type": "stream",
          "name": "stdout",
          "text": [
            "['#refs#', '#subsystem#', 'accelData', 'depths', 'images', 'instances', 'labels', 'names', 'namesToIds', 'rawDepthFilenames', 'rawDepths', 'rawRgbFilenames', 'sceneTypes', 'scenes']\n",
            "(1449, 3, 640, 480) (1449, 640, 480)\n"
          ]
        }
      ]
    },
    {
      "cell_type": "code",
      "source": [
        "import os\n",
        "import h5py\n",
        "import torch\n",
        "import numpy as np\n",
        "from torch.utils.data import Dataset\n",
        "\n",
        "class NYUv2MatHDF5(Dataset):\n",
        "    def __init__(self, mat_path, transform=None):\n",
        "        \"\"\"\n",
        "        mat_path: 形如 \"/content/drive/MyDrive/nyu_depth_v2_labeled.mat\"\n",
        "        transform: 可选，对 (image, depth) 做进一步缩放/增强\n",
        "        \"\"\"\n",
        "        self.transform = transform\n",
        "\n",
        "        # 读取 v7.3 (HDF5) 格式的 .mat 文件\n",
        "        with h5py.File(mat_path, 'r') as f:\n",
        "            # 这里要看具体有哪些键，通常 \"images\" / \"depths\" 是常见名称\n",
        "            self.images = f['images'][:]   # => numpy array\n",
        "            self.depths = f['depths'][:]   # => numpy array\n",
        "\n",
        "        # 可能 shapes 是 (H, W, 3, N) / (H, W, N)\n",
        "        # 取决于 nyu_depth_v2_labeled.mat 内部存储方式\n",
        "        # 这里假设 images.shape = (H, W, 3, N), depths.shape = (H, W, N)\n",
        "        # 转换到 (N, H, W, 3) / (N, H, W)\n",
        "        self.images = self.images.transpose((0, 3, 2, 1))  # => (N,H,W,3)\n",
        "        self.depths = self.depths.transpose((0, 2, 1))      # => (N,H,W)\n",
        "        print(\"After transpose, self.images.shape =\", self.images.shape)\n",
        "        print(\"After transpose, self.depths.shape =\", self.depths.shape)\n",
        "\n",
        "        # 样本总数\n",
        "        self.length = self.images.shape[0]\n",
        "\n",
        "    def __len__(self):\n",
        "        return self.length\n",
        "\n",
        "    def __getitem__(self, idx):\n",
        "        img = self.images[idx]   # shape (H,W,3)\n",
        "        depth = self.depths[idx] # shape (H,W)\n",
        "\n",
        "        # 转 float32\n",
        "        img = img.astype(np.float32)\n",
        "        depth = depth.astype(np.float32)\n",
        "\n",
        "        # 若有自定义transform (e.g. resize/crop/augment)，这里执行\n",
        "        if self.transform:\n",
        "            img, depth = self.transform(img, depth)\n",
        "\n",
        "        # 转 PyTorch Tensor:\n",
        "        #   - 图像 [H,W,3] => [3,H,W]\n",
        "        #   - 深度 [H,W] => [1,H,W]\n",
        "        img_tensor = torch.from_numpy(img).permute(2,0,1)   # [3,H,W]\n",
        "        depth_tensor = torch.from_numpy(depth).unsqueeze(0)  # [1,H,W]\n",
        "\n",
        "        return img_tensor, depth_tensor\n"
      ],
      "metadata": {
        "id": "GN_jwhO5723I"
      },
      "id": "GN_jwhO5723I",
      "execution_count": 7,
      "outputs": []
    },
    {
      "cell_type": "code",
      "source": [
        "from torch.utils.data import DataLoader\n",
        "mat_file = \"/content/drive/MyDrive/nyu_depth_v2_labeled.mat\"  # 你在Drive里的.mat文件路径\n",
        "nyu_dataset = NYUv2MatHDF5(mat_file)\n",
        "\n",
        "# 创建 DataLoader\n",
        "nyu_loader = DataLoader(\n",
        "    nyu_dataset,\n",
        "    batch_size=4,   # 一次取4个样本\n",
        "    shuffle=True,   # 打乱顺序\n",
        ")"
      ],
      "metadata": {
        "id": "t77v-nI18Bal",
        "outputId": "5f6272b9-8d5d-4289-aada-75be98077bb9",
        "colab": {
          "base_uri": "https://localhost:8080/"
        }
      },
      "id": "t77v-nI18Bal",
      "execution_count": 8,
      "outputs": [
        {
          "output_type": "stream",
          "name": "stdout",
          "text": [
            "After transpose, self.images.shape = (1449, 480, 640, 3)\n",
            "After transpose, self.depths.shape = (1449, 480, 640)\n"
          ]
        }
      ]
    },
    {
      "cell_type": "code",
      "source": [
        "for batch_idx, (images, depths) in enumerate(nyu_loader):\n",
        "    print(\"Batch index:\", batch_idx)\n",
        "    print(\"images shape:\", images.shape)  # [B, 3, H, W]\n",
        "    print(\"depths shape:\", depths.shape)  # [B, 1, H, W]\n",
        "    break"
      ],
      "metadata": {
        "id": "7b1wVioc9OS7",
        "outputId": "c1eefe85-f021-4c6d-cbc0-9e5625693df2",
        "colab": {
          "base_uri": "https://localhost:8080/"
        }
      },
      "id": "7b1wVioc9OS7",
      "execution_count": 10,
      "outputs": [
        {
          "output_type": "stream",
          "name": "stdout",
          "text": [
            "Batch index: 0\n",
            "images shape: torch.Size([4, 3, 480, 640])\n",
            "depths shape: torch.Size([4, 1, 480, 640])\n"
          ]
        }
      ]
    },
    {
      "cell_type": "code",
      "execution_count": null,
      "id": "dd1c0e91",
      "metadata": {
        "attributes": {
          "classes": [
            "shell"
          ],
          "id": ""
        },
        "id": "dd1c0e91"
      },
      "outputs": [],
      "source": [
        "pip install timm"
      ]
    },
    {
      "cell_type": "markdown",
      "id": "483ce327",
      "metadata": {
        "id": "483ce327"
      },
      "source": [
        "### Example Usage\n",
        "\n",
        "Download an image from the PyTorch homepage"
      ]
    },
    {
      "cell_type": "code",
      "execution_count": null,
      "id": "6155a73f",
      "metadata": {
        "id": "6155a73f"
      },
      "outputs": [],
      "source": [
        "import cv2\n",
        "import torch\n",
        "import urllib.request\n",
        "\n",
        "import matplotlib.pyplot as plt\n",
        "\n",
        "url, filename = (\"https://github.com/pytorch/hub/raw/master/images/dog.jpg\", \"dog.jpg\")\n",
        "urllib.request.urlretrieve(url, filename)"
      ]
    },
    {
      "cell_type": "markdown",
      "id": "7624ab00",
      "metadata": {
        "id": "7624ab00"
      },
      "source": [
        "Load a model (see [https://github.com/intel-isl/MiDaS/#Accuracy](https://github.com/intel-isl/MiDaS/#Accuracy) for an overview)"
      ]
    },
    {
      "cell_type": "code",
      "execution_count": null,
      "id": "b3977175",
      "metadata": {
        "id": "b3977175"
      },
      "outputs": [],
      "source": [
        "model_type = \"DPT_Large\"     # MiDaS v3 - Large     (highest accuracy, slowest inference speed)\n",
        "#model_type = \"DPT_Hybrid\"   # MiDaS v3 - Hybrid    (medium accuracy, medium inference speed)\n",
        "#model_type = \"MiDaS_small\"  # MiDaS v2.1 - Small   (lowest accuracy, highest inference speed)\n",
        "\n",
        "midas = torch.hub.load(\"intel-isl/MiDaS\", model_type)"
      ]
    },
    {
      "cell_type": "markdown",
      "id": "4af9961d",
      "metadata": {
        "id": "4af9961d"
      },
      "source": [
        "Move model to GPU if available"
      ]
    },
    {
      "cell_type": "code",
      "execution_count": null,
      "id": "0b52afc5",
      "metadata": {
        "id": "0b52afc5"
      },
      "outputs": [],
      "source": [
        "device = torch.device(\"cuda\") if torch.cuda.is_available() else torch.device(\"cpu\")\n",
        "midas.to(device)\n",
        "midas.eval()"
      ]
    },
    {
      "cell_type": "markdown",
      "id": "94c02407",
      "metadata": {
        "id": "94c02407"
      },
      "source": [
        "Load transforms to resize and normalize the image for large or small model"
      ]
    },
    {
      "cell_type": "code",
      "execution_count": null,
      "id": "47b4fd12",
      "metadata": {
        "id": "47b4fd12"
      },
      "outputs": [],
      "source": [
        "midas_transforms = torch.hub.load(\"intel-isl/MiDaS\", \"transforms\")\n",
        "\n",
        "if model_type == \"DPT_Large\" or model_type == \"DPT_Hybrid\":\n",
        "    transform = midas_transforms.dpt_transform\n",
        "else:\n",
        "    transform = midas_transforms.small_transform"
      ]
    },
    {
      "cell_type": "markdown",
      "id": "a46fd7db",
      "metadata": {
        "id": "a46fd7db"
      },
      "source": [
        "Load image and apply transforms"
      ]
    },
    {
      "cell_type": "code",
      "execution_count": null,
      "id": "c805fabe",
      "metadata": {
        "id": "c805fabe"
      },
      "outputs": [],
      "source": [
        "img = cv2.imread(filename)\n",
        "img = cv2.cvtColor(img, cv2.COLOR_BGR2RGB)\n",
        "\n",
        "input_batch = transform(img).to(device)"
      ]
    },
    {
      "cell_type": "markdown",
      "id": "ee94b4dc",
      "metadata": {
        "id": "ee94b4dc"
      },
      "source": [
        "Predict and resize to original resolution"
      ]
    },
    {
      "cell_type": "code",
      "execution_count": null,
      "id": "7422ad0a",
      "metadata": {
        "id": "7422ad0a"
      },
      "outputs": [],
      "source": [
        "with torch.no_grad():\n",
        "    prediction = midas(input_batch)\n",
        "\n",
        "    prediction = torch.nn.functional.interpolate(\n",
        "        prediction.unsqueeze(1),\n",
        "        size=img.shape[:2],\n",
        "        mode=\"bicubic\",\n",
        "        align_corners=False,\n",
        "    ).squeeze()\n",
        "\n",
        "output = prediction.cpu().numpy()"
      ]
    },
    {
      "cell_type": "markdown",
      "id": "53445e77",
      "metadata": {
        "id": "53445e77"
      },
      "source": [
        "Show result"
      ]
    },
    {
      "cell_type": "code",
      "execution_count": null,
      "id": "7a1f9cb2",
      "metadata": {
        "id": "7a1f9cb2"
      },
      "outputs": [],
      "source": [
        "plt.imshow(output)\n",
        "# plt.show()"
      ]
    },
    {
      "cell_type": "markdown",
      "id": "16467aac",
      "metadata": {
        "id": "16467aac"
      },
      "source": [
        "### References\n",
        "[Towards Robust Monocular Depth Estimation: Mixing Datasets for Zero-shot Cross-dataset Transfer](https://arxiv.org/abs/1907.01341)\n",
        "\n",
        "[Vision Transformers for Dense Prediction](https://arxiv.org/abs/2103.13413)\n",
        "\n",
        "Please cite our papers if you use our models:"
      ]
    },
    {
      "cell_type": "code",
      "execution_count": null,
      "id": "237ee71f",
      "metadata": {
        "attributes": {
          "classes": [
            "bibtex"
          ],
          "id": ""
        },
        "id": "237ee71f"
      },
      "outputs": [],
      "source": [
        "@article{Ranftl2020,\n",
        "\tauthor    = {Ren\\'{e} Ranftl and Katrin Lasinger and David Hafner and Konrad Schindler and Vladlen Koltun},\n",
        "\ttitle     = {Towards Robust Monocular Depth Estimation: Mixing Datasets for Zero-shot Cross-dataset Transfer},\n",
        "\tjournal   = {IEEE Transactions on Pattern Analysis and Machine Intelligence (TPAMI)},\n",
        "\tyear      = {2020},\n",
        "}"
      ]
    },
    {
      "cell_type": "code",
      "execution_count": null,
      "id": "64d081ce",
      "metadata": {
        "attributes": {
          "classes": [
            "bibtex"
          ],
          "id": ""
        },
        "id": "64d081ce"
      },
      "outputs": [],
      "source": [
        "@article{Ranftl2021,\n",
        "\tauthor    = {Ren\\'{e} Ranftl and Alexey Bochkovskiy and Vladlen Koltun},\n",
        "\ttitle     = {Vision Transformers for Dense Prediction},\n",
        "\tjournal   = {ArXiv preprint},\n",
        "\tyear      = {2021},\n",
        "}"
      ]
    }
  ],
  "metadata": {
    "colab": {
      "provenance": []
    },
    "language_info": {
      "name": "python"
    },
    "kernelspec": {
      "name": "python3",
      "display_name": "Python 3"
    }
  },
  "nbformat": 4,
  "nbformat_minor": 5
}