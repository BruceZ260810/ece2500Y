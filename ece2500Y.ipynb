{
  "nbformat": 4,
  "nbformat_minor": 0,
  "metadata": {
    "colab": {
      "provenance": []
    },
    "kernelspec": {
      "name": "python3",
      "display_name": "Python 3"
    },
    "language_info": {
      "name": "python"
    }
  },
  "cells": [
    {
      "cell_type": "code",
      "execution_count": null,
      "metadata": {
        "id": "LrnYSgR7ebg5"
      },
      "outputs": [],
      "source": [
        "# prompt: Import an excel file with a time column and 10 other columns called: Hip, Knee, Ankle, Heel (ventral), Instep (dorsal), Toe 1 (Proximal \"Thumb\"), Toe 2, Toe 3 (Middle), Toe 4, and Toe 5 (Distal \"Pinky\"). Within each of the 10 columns, there are 3 sub-columns called: x, y, and likelihood.\n",
        "\n",
        "import pandas as pd\n",
        "import numpy as np\n",
        "import openpyxl\n",
        "from openpyxl import load_workbook\n",
        "from datetime import datetime\n",
        "\n",
        "df = pd.read_excel('file.xlsx')\n",
        "\n",
        "# Extract time column\n",
        "time_column = df['Time']\n",
        "\n",
        "# Extract columns for body parts\n",
        "hip_x = df['Hip x']\n",
        "hip_y = df['Hip y']\n",
        "hip_likelihood = df['Hip likelihood']\n",
        "\n",
        "knee_x = df['Knee x']\n",
        "knee_y = df['Knee y']\n",
        "knee_likelihood = df['Knee likelihood']\n",
        "\n",
        "# ... and so on for the remaining body parts\n",
        "\n",
        "# Create a dictionary to store all body parts data\n",
        "body_parts = {\n",
        "    'Hip': {\n",
        "        'x': hip_x,\n",
        "        'y': hip_y,\n",
        "        'likelihood': hip_likelihood\n",
        "    },\n",
        "    'Knee': {\n",
        "        'x': knee_x,\n",
        "        'y': knee_y,\n",
        "        'likelihood': knee_likelihood\n",
        "    },\n",
        "    # ... and so on for the remaining body parts\n",
        "}\n",
        "\n",
        "# Convert time column to datetime objects\n",
        "time_column = pd.to_datetime(time_column)\n",
        "\n",
        "# Do something with the extracted data...\n"
      ]
    }
  ]
}